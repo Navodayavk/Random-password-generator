{
 "cells": [
  {
   "cell_type": "code",
   "execution_count": 5,
   "id": "d94649a1-d995-41b8-b405-a1b5378c51b0",
   "metadata": {},
   "outputs": [
    {
     "name": "stdin",
     "output_type": "stream",
     "text": [
      "Enter password length: 10\n"
     ]
    },
    {
     "name": "stdout",
     "output_type": "stream",
     "text": [
      "ahC9GfxLi5\n"
     ]
    }
   ],
   "source": [
    "#random password generator\n",
    "import string\n",
    "import random\n",
    "\n",
    "characters = list(string.ascii_letters + string.digits + \"!@#$%^&*()\")\n",
    "\n",
    "def generate_random_password():\n",
    "    length = int(input(\"Enter password length:\"))\n",
    "    \n",
    "    random.shuffle(characters)\n",
    "    \n",
    "    password = []\n",
    "    for i in range(length):\n",
    "        password.append(random.choice(characters))\n",
    "    random.shuffle(password)\n",
    "    print(\"\".join(password))\n",
    "\n",
    "generate_random_password()\n",
    "\n",
    "\n",
    "    "
   ]
  },
  {
   "cell_type": "code",
   "execution_count": null,
   "id": "f2b69fa1-f35b-45d4-8821-040a9c8fe2f6",
   "metadata": {},
   "outputs": [],
   "source": []
  }
 ],
 "metadata": {
  "kernelspec": {
   "display_name": "Python 3 (ipykernel)",
   "language": "python",
   "name": "python3"
  },
  "language_info": {
   "codemirror_mode": {
    "name": "ipython",
    "version": 3
   },
   "file_extension": ".py",
   "mimetype": "text/x-python",
   "name": "python",
   "nbconvert_exporter": "python",
   "pygments_lexer": "ipython3",
   "version": "3.12.7"
  }
 },
 "nbformat": 4,
 "nbformat_minor": 5
}
